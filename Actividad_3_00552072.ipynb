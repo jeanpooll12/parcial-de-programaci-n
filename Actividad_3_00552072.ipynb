{
  "nbformat": 4,
  "nbformat_minor": 0,
  "metadata": {
    "colab": {
      "provenance": [],
      "authorship_tag": "ABX9TyNmPntG5Dpmz3e4I1iGtoKp",
      "include_colab_link": true
    },
    "kernelspec": {
      "name": "python3",
      "display_name": "Python 3"
    },
    "language_info": {
      "name": "python"
    }
  },
  "cells": [
    {
      "cell_type": "markdown",
      "metadata": {
        "id": "view-in-github",
        "colab_type": "text"
      },
      "source": [
        "<a href=\"https://colab.research.google.com/github/jeanpooll12/parcial-de-programaci-n/blob/main/Actividad_3_00552072.ipynb\" target=\"_parent\"><img src=\"https://colab.research.google.com/assets/colab-badge.svg\" alt=\"Open In Colab\"/></a>"
      ]
    },
    {
      "cell_type": "markdown",
      "source": [
        "## Ciclos y Condionales  3\n",
        "\n",
        " **Fecha:** _22 de marzo de 2024_\n",
        "\n",
        " **Presentado por:** _Jean Pooll Noriega Navas_\n",
        "\n",
        " **Email:** jean.noriegan@upb.edu.co\n",
        "\n"
      ],
      "metadata": {
        "id": "qLB9BAehSvmb"
      }
    },
    {
      "cell_type": "code",
      "source": [
        "import math\n",
        "frecuencia_señal = int(input(\"Ingrese la frecuencia de la señal: \"))\n",
        "MEDIA = 1000\n",
        "DESV_ESTAND = 300\n",
        "UMBRAL = 0.3\n",
        "proba_acum = 0\n",
        "for f in range(frecuencia_señal + 1):\n",
        "    result = (1 / (DESV_ESTAND * math.sqrt(2 * math.pi))) * math.exp(-(1/2) * ((f - MEDIA) / DESV_ESTAND) ** 2)\n",
        "    proba_acum += result\n",
        "if proba_acum > UMBRAL:\n",
        "    print(result)\n",
        "    print(\"La señal pasa de el filtro.\")\n",
        "else:\n",
        "    print(result)\n",
        "    print(\"La señal es bloqueada por el filtro.\")"
      ],
      "metadata": {
        "id": "1dPXi9B8UFMr"
      },
      "execution_count": null,
      "outputs": []
    }
  ]
}